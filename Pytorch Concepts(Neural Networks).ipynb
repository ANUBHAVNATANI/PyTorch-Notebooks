{
 "cells": [
  {
   "cell_type": "code",
   "execution_count": 1,
   "metadata": {},
   "outputs": [],
   "source": [
    "#importing pakages\n",
    "%matplotlib inline\n",
    "%config InlineBackend.figure_format = 'retina'\n",
    "import numpy as np\n",
    "import torch\n",
    "import matplotlib.pyplot as plt\n",
    "import helper"
   ]
  },
  {
   "cell_type": "code",
   "execution_count": 4,
   "metadata": {},
   "outputs": [
    {
     "name": "stdout",
     "output_type": "stream",
     "text": [
      "Downloading http://yann.lecun.com/exdb/mnist/train-images-idx3-ubyte.gz\n",
      "Downloading http://yann.lecun.com/exdb/mnist/train-labels-idx1-ubyte.gz\n",
      "Downloading http://yann.lecun.com/exdb/mnist/t10k-images-idx3-ubyte.gz\n",
      "Downloading http://yann.lecun.com/exdb/mnist/t10k-labels-idx1-ubyte.gz\n",
      "Processing...\n",
      "Done!\n"
     ]
    }
   ],
   "source": [
    "#we will use the torchvision package for downloading the mnist dataset\n",
    "from torchvision import datasets,transforms\n",
    "#we use transforms to normalize the data\n",
    "transform = transforms.Compose([transforms.ToTensor(),transforms.Normalize((0.5,),(0.5,))])\n",
    "#mean 0.5 and std dev 0.5 for the image to normalize\n",
    "trainset = datasets.MNIST('~/.pytorch/MNIST_data',download=True,train=True,transform = transform)\n",
    "trainloader = torch.utils.data.DataLoader(trainset,batch_size=64,shuffle=True)"
   ]
  },
  {
   "cell_type": "code",
   "execution_count": 5,
   "metadata": {},
   "outputs": [
    {
     "name": "stdout",
     "output_type": "stream",
     "text": [
      "<class 'torch.Tensor'>\n",
      "torch.Size([64, 1, 28, 28])\n",
      "torch.Size([64])\n"
     ]
    }
   ],
   "source": [
    "dataiter = iter(trainloader)\n",
    "images,labels = dataiter.next()\n",
    "print(type(images))\n",
    "print(images.shape)\n",
    "print(labels.shape)"
   ]
  },
  {
   "cell_type": "code",
   "execution_count": 15,
   "metadata": {},
   "outputs": [
    {
     "data": {
      "text/plain": [
       "<matplotlib.image.AxesImage at 0x7f1e27874ac8>"
      ]
     },
     "execution_count": 15,
     "metadata": {},
     "output_type": "execute_result"
    },
    {
     "data": {
      "image/png": "[encoded data removed]",
      "text/plain": [
       "<matplotlib.figure.Figure at 0x7f1e278d4a90>"
      ]
     },
     "metadata": {
      "image/png": {
       "height": 250,
       "width": 253
      }
     },
     "output_type": "display_data"
    }
   ],
   "source": [
    "plt.imshow(images[1].numpy().squeeze(),cmap='Greys_r')\n",
    "#squeeze returns a tensor of dimension of input of size 1 removed"
   ]
  },
  {
   "cell_type": "code",
   "execution_count": 17,
   "metadata": {},
   "outputs": [],
   "source": [
    "#defining the activation function\n",
    "def sigmoid(x):\n",
    "    return 1/(1+torch.exp(-x))"
   ]
  },
  {
   "cell_type": "code",
   "execution_count": 23,
   "metadata": {},
   "outputs": [
    {
     "name": "stdout",
     "output_type": "stream",
     "text": [
      "torch.Size([64, 1, 28, 28])\n",
      "torch.Size([64, 784])\n",
      "torch.Size([64, 784])\n"
     ]
    }
   ],
   "source": [
    "#previous shape of images\n",
    "print(images.shape)\n",
    "#flattining the input\n",
    "inputs = images.view(images.shape[0],-1)\n",
    "#we can also write 784 insted of -1\n",
    "inputs_a = images.view(images.shape[0],784)\n",
    "print(inputs.shape)\n",
    "print(inputs_a.shape)"
   ]
  },
  {
   "cell_type": "code",
   "execution_count": 24,
   "metadata": {},
   "outputs": [],
   "source": [
    "#making the basic network\n",
    "#layer 1\n",
    "w1 = torch.randn((784,256))\n",
    "b1 = torch.randn((256))\n",
    "#layer 2\n",
    "w2 = torch.randn((256,10))\n",
    "b2 = torch.randn((10))\n",
    "#defining the hidden layer\n",
    "h = sigmoid(torch.mm(inputs,w1)+b1)\n",
    "#defining the output layer\n",
    "out = torch.mm(h,w2)+b2"
   ]
  },
  {
   "cell_type": "code",
   "execution_count": 39,
   "metadata": {},
   "outputs": [],
   "source": [
    "#as the network in not trained so in the output the class probability of all the classes is same\n",
    "#out_cov = out.type(torch.IntTensor)\n",
    "#code to convert the type of tensor \n",
    "#torch.sum(torch.exp(out),dim=1).view(-1,1)\n",
    "#this view(-1,1) convert a row to a column tensor and a column tensor to a row tensor"
   ]
  },
  {
   "cell_type": "code",
   "execution_count": 42,
   "metadata": {},
   "outputs": [],
   "source": [
    "#print(out_cov[0])\n",
    "# we can apply softmax and get the probability\n",
    "#dim=1 sum accross columns\n",
    "#as our result is accross columns we need to sum across columns\n",
    "def softmax(x):\n",
    "    return torch.exp(x)/torch.sum(torch.exp(x),dim=1).view(-1,1)"
   ]
  },
  {
   "cell_type": "code",
   "execution_count": 57,
   "metadata": {},
   "outputs": [
    {
     "name": "stdout",
     "output_type": "stream",
     "text": [
      "torch.Size([64, 10])\n",
      "tensor([1.0000, 1.0000, 1.0000, 1.0000, 1.0000, 1.0000, 1.0000, 1.0000, 1.0000,\n",
      "        1.0000, 1.0000, 1.0000, 1.0000, 1.0000, 1.0000, 1.0000, 1.0000, 1.0000,\n",
      "        1.0000, 1.0000, 1.0000, 1.0000, 1.0000, 1.0000, 1.0000, 1.0000, 1.0000,\n",
      "        1.0000, 1.0000, 1.0000, 1.0000, 1.0000, 1.0000, 1.0000, 1.0000, 1.0000,\n",
      "        1.0000, 1.0000, 1.0000, 1.0000, 1.0000, 1.0000, 1.0000, 1.0000, 1.0000,\n",
      "        1.0000, 1.0000, 1.0000, 1.0000, 1.0000, 1.0000, 1.0000, 1.0000, 1.0000,\n",
      "        1.0000, 1.0000, 1.0000, 1.0000, 1.0000, 1.0000, 1.0000, 1.0000, 1.0000,\n",
      "        1.0000])\n"
     ]
    },
    {
     "data": {
      "text/plain": [
       "<Container object of 10 artists>"
      ]
     },
     "execution_count": 57,
     "metadata": {},
     "output_type": "execute_result"
    },
    {
     "data": {
      "image/png": "[encoded data removed]",
      "text/plain": [
       "<matplotlib.figure.Figure at 0x7f1e26ebcac8>"
      ]
     },
     "metadata": {
      "image/png": {
       "height": 250,
       "width": 373
      }
     },
     "output_type": "display_data"
    }
   ],
   "source": [
    "probabilities = softmax(out)\n",
    "print(probabilities.shape)\n",
    "print(probabilities.sum(dim=1))\n",
    "# we got all one as the probabilities all sum to one\n",
    "# we can plot the distribution and get the more or less same distribution as the model is not trained\n",
    "#now without doing the sum we can alos see the uniform distribution\n",
    "#print(probabilities[0])\n",
    "#u = probabilities[0]\n",
    "graph_pro = torch.sum(probabilities,dim=0)/64\n",
    "plt.bar([0,1,2,3,4,5,6,7,8,9],graph_pro.numpy().squeeze())"
   ]
  },
  {
   "cell_type": "code",
   "execution_count": 58,
   "metadata": {},
   "outputs": [],
   "source": [
    "#there are multiple methods to build a nureal network in pytorch \n",
    "#frist method"
   ]
  },
  {
   "cell_type": "code",
   "execution_count": 60,
   "metadata": {},
   "outputs": [],
   "source": [
    "from torch import nn\n"
   ]
  },
  {
   "cell_type": "code",
   "execution_count": 61,
   "metadata": {},
   "outputs": [],
   "source": [
    "class Network(nn.Module):\n",
    "    def __init__(self):\n",
    "        super().__init__()\n",
    "        #defining the hidden layer\n",
    "        self.hidden = nn.Linear(784,256)\n",
    "        #defining the output layer\n",
    "        self.output = nn.Linear(256,10)\n",
    "        #defining the activation layer\n",
    "        self.sigmoid = nn.Sigmoid()\n",
    "        #we need to find softmax accross columns\n",
    "        self.softmax = nn.Softmax(dim=1)\n",
    "    #must have this method\n",
    "    #order in init is not important \n",
    "    #order in forward method is important\n",
    "    def forward(self,x):\n",
    "        #passing the input tensor to the expression\n",
    "        x = self.hidden(x)\n",
    "        x = self.sigmoid(x)\n",
    "        x = self.output(x)\n",
    "        x = self.softmax(x)\n",
    "        \n",
    "        return x"
   ]
  },
  {
   "cell_type": "code",
   "execution_count": 62,
   "metadata": {},
   "outputs": [
    {
     "data": {
      "text/plain": [
       "Network(\n",
       "  (hidden): Linear(in_features=784, out_features=256, bias=True)\n",
       "  (output): Linear(in_features=256, out_features=10, bias=True)\n",
       "  (sigmoid): Sigmoid()\n",
       "  (softmax): Softmax()\n",
       ")"
      ]
     },
     "execution_count": 62,
     "metadata": {},
     "output_type": "execute_result"
    }
   ],
   "source": [
    "model = Network()\n",
    "model"
   ]
  },
  {
   "cell_type": "code",
   "execution_count": 63,
   "metadata": {},
   "outputs": [],
   "source": [
    "#we can define model more consisely by functional module of pytorch\n",
    "import torch.nn.functional as F\n",
    "class Network(nn.Module):\n",
    "    def __init__(self):\n",
    "        super().__init__()\n",
    "        #hidden layer defining \n",
    "        self.hidden = nn.Linear(784,256)\n",
    "        #output layer\n",
    "        self.output = nn.Linear(256,10)\n",
    "    def forward(self,x):\n",
    "        #applying the sigmoid activation\n",
    "        x = F.sigmoid(self.hidden(x))\n",
    "        #output layer with softmax activation\n",
    "        x = F.softmax(self.output(x),dim=1)\n",
    "        \n",
    "        return x"
   ]
  },
  {
   "cell_type": "code",
   "execution_count": 64,
   "metadata": {},
   "outputs": [
    {
     "data": {
      "text/plain": [
       "Network(\n",
       "  (hidden): Linear(in_features=784, out_features=256, bias=True)\n",
       "  (output): Linear(in_features=256, out_features=10, bias=True)\n",
       ")"
      ]
     },
     "execution_count": 64,
     "metadata": {},
     "output_type": "execute_result"
    }
   ],
   "source": [
    "classifier = Network()\n",
    "classifier"
   ]
  },
  {
   "cell_type": "code",
   "execution_count": 66,
   "metadata": {},
   "outputs": [
    {
     "data": {
      "text/plain": [
       "Network(\n",
       "  (fc1): Linear(in_features=784, out_features=128, bias=True)\n",
       "  (fc2): Linear(in_features=128, out_features=64, bias=True)\n",
       "  (fc3): Linear(in_features=64, out_features=10, bias=True)\n",
       ")"
      ]
     },
     "execution_count": 66,
     "metadata": {},
     "output_type": "execute_result"
    }
   ],
   "source": [
    "#MultiLayer Perceptron\n",
    "class Network(nn.Module):\n",
    "    def __init__(self):\n",
    "        super().__init__()\n",
    "        #defining hidden layers\n",
    "        self.fc1=nn.Linear(784,128)\n",
    "        self.fc2=nn.Linear(128,64)\n",
    "        #Output layer\n",
    "        self.fc3=nn.Linear(64,10)\n",
    "    def forward(self,x):\n",
    "        x=self.fc1(x)\n",
    "        x=F.relu(x)\n",
    "        x=self.fc2(x)\n",
    "        x=F.relu(x)\n",
    "        x=self.fc3(x)\n",
    "        x=F.softmax(x,dim=1)\n",
    "        \n",
    "        return x\n",
    "model = Network()\n",
    "model"
   ]
  },
  {
   "cell_type": "code",
   "execution_count": 67,
   "metadata": {},
   "outputs": [
    {
     "name": "stdout",
     "output_type": "stream",
     "text": [
      "Parameter containing:\n",
      "tensor([[ 0.0278, -0.0242,  0.0052,  ..., -0.0252,  0.0005, -0.0161],\n",
      "        [-0.0221,  0.0215,  0.0080,  ..., -0.0253,  0.0212,  0.0251],\n",
      "        [-0.0182,  0.0019, -0.0293,  ..., -0.0247,  0.0032, -0.0034],\n",
      "        ...,\n",
      "        [-0.0081, -0.0146,  0.0265,  ..., -0.0032, -0.0127,  0.0293],\n",
      "        [-0.0156, -0.0093, -0.0155,  ..., -0.0281,  0.0203,  0.0323],\n",
      "        [ 0.0234,  0.0144, -0.0232,  ..., -0.0222, -0.0337,  0.0155]],\n",
      "       requires_grad=True)\n",
      "Parameter containing:\n",
      "tensor([-0.0103,  0.0143, -0.0243,  0.0297, -0.0292, -0.0173,  0.0216, -0.0142,\n",
      "         0.0332, -0.0071, -0.0051,  0.0099, -0.0290, -0.0277,  0.0118, -0.0112,\n",
      "        -0.0159, -0.0353, -0.0014,  0.0285,  0.0335, -0.0103, -0.0242, -0.0179,\n",
      "        -0.0305,  0.0053, -0.0026,  0.0104,  0.0282, -0.0084, -0.0356, -0.0098,\n",
      "        -0.0002,  0.0197,  0.0214, -0.0210,  0.0022, -0.0060,  0.0219,  0.0123,\n",
      "        -0.0307, -0.0017, -0.0129,  0.0313, -0.0152, -0.0026, -0.0246, -0.0184,\n",
      "        -0.0329,  0.0221,  0.0159,  0.0028, -0.0328,  0.0318,  0.0274,  0.0329,\n",
      "        -0.0088,  0.0179, -0.0201,  0.0167, -0.0319, -0.0283, -0.0198, -0.0284,\n",
      "         0.0265, -0.0049, -0.0002,  0.0126,  0.0074, -0.0084,  0.0031, -0.0310,\n",
      "         0.0195, -0.0115,  0.0197, -0.0259, -0.0348,  0.0194,  0.0150,  0.0157,\n",
      "         0.0197, -0.0236, -0.0076,  0.0069,  0.0005, -0.0257, -0.0290,  0.0307,\n",
      "         0.0264, -0.0143,  0.0212,  0.0047,  0.0217,  0.0242, -0.0152,  0.0257,\n",
      "         0.0015, -0.0070,  0.0010, -0.0219, -0.0086,  0.0304,  0.0220,  0.0144,\n",
      "        -0.0033, -0.0149,  0.0300, -0.0030,  0.0175, -0.0115,  0.0169,  0.0296,\n",
      "        -0.0181,  0.0310, -0.0120,  0.0231, -0.0324, -0.0261,  0.0108, -0.0135,\n",
      "        -0.0327, -0.0294,  0.0317, -0.0150,  0.0078,  0.0191,  0.0087, -0.0109],\n",
      "       requires_grad=True)\n"
     ]
    }
   ],
   "source": [
    "#initializing weights and biases\n",
    "#as the weigths and biases are initialized randomly\n",
    "print(model.fc1.weight)\n",
    "print(model.fc1.bias)"
   ]
  },
  {
   "cell_type": "code",
   "execution_count": 68,
   "metadata": {},
   "outputs": [
    {
     "data": {
      "text/plain": [
       "tensor([0., 0., 0., 0., 0., 0., 0., 0., 0., 0., 0., 0., 0., 0., 0., 0., 0., 0., 0., 0., 0., 0., 0., 0.,\n",
       "        0., 0., 0., 0., 0., 0., 0., 0., 0., 0., 0., 0., 0., 0., 0., 0., 0., 0., 0., 0., 0., 0., 0., 0.,\n",
       "        0., 0., 0., 0., 0., 0., 0., 0., 0., 0., 0., 0., 0., 0., 0., 0., 0., 0., 0., 0., 0., 0., 0., 0.,\n",
       "        0., 0., 0., 0., 0., 0., 0., 0., 0., 0., 0., 0., 0., 0., 0., 0., 0., 0., 0., 0., 0., 0., 0., 0.,\n",
       "        0., 0., 0., 0., 0., 0., 0., 0., 0., 0., 0., 0., 0., 0., 0., 0., 0., 0., 0., 0., 0., 0., 0., 0.,\n",
       "        0., 0., 0., 0., 0., 0., 0., 0.])"
      ]
     },
     "execution_count": 68,
     "metadata": {},
     "output_type": "execute_result"
    }
   ],
   "source": [
    "#we can also fill the data randomly\n",
    "model.fc1.bias.data.fill_(0)\n",
    "#_ inplace operation"
   ]
  },
  {
   "cell_type": "code",
   "execution_count": 69,
   "metadata": {},
   "outputs": [
    {
     "data": {
      "text/plain": [
       "tensor([[ 0.0097,  0.0168, -0.0140,  ...,  0.0091, -0.0119, -0.0108],\n",
       "        [ 0.0049,  0.0071, -0.0100,  ...,  0.0113,  0.0190,  0.0037],\n",
       "        [ 0.0058, -0.0004, -0.0097,  ...,  0.0048,  0.0093, -0.0105],\n",
       "        ...,\n",
       "        [ 0.0118, -0.0041,  0.0018,  ...,  0.0062, -0.0206, -0.0042],\n",
       "        [ 0.0098, -0.0013,  0.0157,  ..., -0.0076,  0.0008, -0.0035],\n",
       "        [ 0.0124,  0.0026, -0.0082,  ...,  0.0029,  0.0014,  0.0070]])"
      ]
     },
     "execution_count": 69,
     "metadata": {},
     "output_type": "execute_result"
    }
   ],
   "source": [
    "#sample from random normal with standard dev = 0.01\n",
    "model.fc1.weight.data.normal_(std=0.01)"
   ]
  },
  {
   "cell_type": "code",
   "execution_count": 70,
   "metadata": {},
   "outputs": [
    {
     "data": {
      "image/png": "[encoded data removed]",
      "text/plain": [
       "<matplotlib.figure.Figure at 0x7f1e26ec46d8>"
      ]
     },
     "metadata": {
      "image/png": {
       "height": 224,
       "width": 423
      }
     },
     "output_type": "display_data"
    }
   ],
   "source": [
    "#forward pass\n",
    "#grabbing the data\n",
    "dataiter = iter(trainloader)\n",
    "images,labels = dataiter.next()\n",
    "\n",
    "#resizing the whole data\n",
    "images.resize_(64,1,784)\n",
    "\n",
    "#forward pass thru the network\n",
    "img_idx = 0\n",
    "ps = model.forward(images[img_idx,:])\n",
    "\n",
    "img = images[img_idx]\n",
    "#helper is custom made python script to work\n",
    "helper.view_classify(img.view(1,28,28),ps)"
   ]
  },
  {
   "cell_type": "code",
   "execution_count": 71,
   "metadata": {},
   "outputs": [
    {
     "name": "stdout",
     "output_type": "stream",
     "text": [
      "Sequential(\n",
      "  (0): Linear(in_features=784, out_features=128, bias=True)\n",
      "  (1): ReLU()\n",
      "  (2): Linear(in_features=128, out_features=64, bias=True)\n",
      "  (3): ReLU()\n",
      "  (4): Linear(in_features=64, out_features=10, bias=True)\n",
      "  (5): Softmax()\n",
      ")\n"
     ]
    }
   ],
   "source": [
    "#we can use the sequential module of the pytorch so to easily define the model\n",
    "input_size = 784\n",
    "hidden_sizes = [128,64]\n",
    "output_size = 10\n",
    "\n",
    "#feed forward network\n",
    "model = nn.Sequential(nn.Linear(input_size,hidden_sizes[0]),\n",
    "                      nn.ReLU(),\n",
    "                      nn.Linear(hidden_sizes[0],hidden_sizes[1]),\n",
    "                      nn.ReLU(),\n",
    "                      nn.Linear(hidden_sizes[1],output_size),\n",
    "                      nn.Softmax(dim=1))\n",
    "print(model)"
   ]
  },
  {
   "cell_type": "code",
   "execution_count": 72,
   "metadata": {},
   "outputs": [
    {
     "data": {
      "image/png": "[encoded data removed]",
      "text/plain": [
       "<matplotlib.figure.Figure at 0x7f1e26f68908>"
      ]
     },
     "metadata": {
      "image/png": {
       "height": 224,
       "width": 423
      }
     },
     "output_type": "display_data"
    }
   ],
   "source": [
    "#forward pass thru the network and display output\n",
    "images,labels = next(iter(trainloader))\n",
    "images.resize_(images.shape[0],1,784)\n",
    "ps = model.forward(images[0,:])\n",
    "helper.view_classify(images[0].view(1,28,28),ps)"
   ]
  },
  {
   "cell_type": "code",
   "execution_count": 73,
   "metadata": {},
   "outputs": [
    {
     "name": "stdout",
     "output_type": "stream",
     "text": [
      "Linear(in_features=784, out_features=128, bias=True)\n"
     ]
    },
    {
     "data": {
      "text/plain": [
       "Parameter containing:\n",
       "tensor([[-0.0218,  0.0146,  0.0139,  ..., -0.0131,  0.0303, -0.0296],\n",
       "        [ 0.0014,  0.0307, -0.0283,  ..., -0.0087, -0.0286, -0.0179],\n",
       "        [ 0.0196,  0.0351,  0.0357,  ..., -0.0230,  0.0095, -0.0016],\n",
       "        ...,\n",
       "        [-0.0201,  0.0230,  0.0001,  ...,  0.0247, -0.0037,  0.0170],\n",
       "        [ 0.0188, -0.0318,  0.0242,  ...,  0.0035, -0.0283,  0.0260],\n",
       "        [-0.0322, -0.0356, -0.0327,  ...,  0.0175, -0.0322, -0.0354]],\n",
       "       requires_grad=True)"
      ]
     },
     "execution_count": 73,
     "metadata": {},
     "output_type": "execute_result"
    }
   ],
   "source": [
    "print(model[0])\n",
    "model[0].weight"
   ]
  },
  {
   "cell_type": "code",
   "execution_count": 77,
   "metadata": {},
   "outputs": [
    {
     "data": {
      "text/plain": [
       "Sequential(\n",
       "  (fc1): Linear(in_features=784, out_features=128, bias=True)\n",
       "  (relu1): ReLU()\n",
       "  (fc2): Linear(in_features=128, out_features=64, bias=True)\n",
       "  (relu2): ReLU()\n",
       "  (output): Linear(in_features=64, out_features=10, bias=True)\n",
       "  (softmax): Softmax()\n",
       ")"
      ]
     },
     "execution_count": 77,
     "metadata": {},
     "output_type": "execute_result"
    }
   ],
   "source": [
    "#other way of doing things\n",
    "from collections import OrderedDict\n",
    "model = nn.Sequential(OrderedDict([\n",
    "                      ('fc1', nn.Linear(input_size, hidden_sizes[0])),\n",
    "                      ('relu1', nn.ReLU()),\n",
    "                      ('fc2', nn.Linear(hidden_sizes[0], hidden_sizes[1])),\n",
    "                      ('relu2', nn.ReLU()),\n",
    "                      ('output', nn.Linear(hidden_sizes[1], output_size)),\n",
    "                      ('softmax', nn.Softmax(dim=1))]))\n",
    "model"
   ]
  },
  {
   "cell_type": "code",
   "execution_count": 78,
   "metadata": {},
   "outputs": [
    {
     "name": "stdout",
     "output_type": "stream",
     "text": [
      "Linear(in_features=784, out_features=128, bias=True)\n",
      "Linear(in_features=784, out_features=128, bias=True)\n"
     ]
    }
   ],
   "source": [
    "print(model[0])\n",
    "print(model.fc1)"
   ]
  },
  {
   "cell_type": "code",
   "execution_count": null,
   "metadata": {},
   "outputs": [],
   "source": []
  }
 ],
 "metadata": {
  "kernelspec": {
   "display_name": "Python 3",
   "language": "python",
   "name": "python3"
  },
  "language_info": {
   "codemirror_mode": {
    "name": "ipython",
    "version": 3
   },
   "file_extension": ".py",
   "mimetype": "text/x-python",
   "name": "python",
   "nbconvert_exporter": "python",
   "pygments_lexer": "ipython3",
   "version": "3.6.4"
  }
 },
 "nbformat": 4,
 "nbformat_minor": 2
}
