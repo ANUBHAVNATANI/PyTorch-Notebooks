{
 "cells": [
  {
   "cell_type": "code",
   "execution_count": 1,
   "metadata": {},
   "outputs": [],
   "source": [
    "#we can train nureal networks in pytorch by backprop using auto grad module in pytorch"
   ]
  },
  {
   "cell_type": "code",
   "execution_count": 2,
   "metadata": {},
   "outputs": [],
   "source": [
    "#there are different types of losses in pytorch \n",
    "#1.CrossEntropy Loss\n",
    "#2.NLLLoss\n"
   ]
  },
  {
   "cell_type": "code",
   "execution_count": 4,
   "metadata": {},
   "outputs": [],
   "source": [
    "import torch\n",
    "from torch import nn\n",
    "import torch.nn.functional as F\n",
    "from torchvision import datasets,transforms\n",
    "\n",
    "transform = transforms.Compose([transforms.ToTensor(),transforms.Normalize((0.5, 0.5, 0.5), (0.5, 0.5, 0.5)),])\n",
    "trainset = datasets.MNIST('~/.pytorch/MNIST_data',download=False,train=True,transform=transform)\n",
    "trainloader = torch.utils.data.DataLoader(trainset,batch_size=64,shuffle=True)"
   ]
  },
  {
   "cell_type": "code",
   "execution_count": 8,
   "metadata": {},
   "outputs": [
    {
     "data": {
      "text/plain": [
       "<matplotlib.image.AxesImage at 0x7fef06fce0f0>"
      ]
     },
     "execution_count": 8,
     "metadata": {},
     "output_type": "execute_result"
    },
    {
     "data": {
      "image/png": "[encoded data removed]",
      "text/plain": [
       "<matplotlib.figure.Figure at 0x7fef071a1f60>"
      ]
     },
     "metadata": {},
     "output_type": "display_data"
    }
   ],
   "source": [
    "images,labels = next(iter(trainloader))\n",
    "import matplotlib.pyplot as plt\n",
    "plt.imshow(images[0].numpy().squeeze())"
   ]
  },
  {
   "cell_type": "code",
   "execution_count": 13,
   "metadata": {},
   "outputs": [
    {
     "name": "stdout",
     "output_type": "stream",
     "text": [
      "tensor(2.2953, grad_fn=<NllLossBackward>)\n"
     ]
    }
   ],
   "source": [
    "#making our model\n",
    "\n",
    "# Build a feed-forward network\n",
    "model = nn.Sequential(nn.Linear(784, 128),\n",
    "                      nn.ReLU(),\n",
    "                      nn.Linear(128, 64),\n",
    "                      nn.ReLU(),\n",
    "                      nn.Linear(64, 10),\n",
    "                      nn.LogSoftmax(dim=1))\n",
    "\n",
    "#defining the loss\n",
    "criterion = nn.NLLLoss()\n",
    "#negative log likely hood loss\n",
    "#Geeting the data\n",
    "images, labels = next(iter(trainloader))\n",
    "#Flatten images\n",
    "images = images.view(images.shape[0],-1)\n",
    "#forward pass to get the logits\n",
    "logits = model(images)\n",
    "#calculation of the loss\n",
    "loss = criterion(logits,labels)\n",
    "\n",
    "print(loss)"
   ]
  },
  {
   "cell_type": "code",
   "execution_count": 15,
   "metadata": {},
   "outputs": [
    {
     "name": "stdout",
     "output_type": "stream",
     "text": [
      "tensor([[-2.7858, -1.3265],\n",
      "        [-0.4046, -1.7091]], requires_grad=True)\n",
      "tensor([[7.7606, 1.7597],\n",
      "        [0.1637, 2.9210]], grad_fn=<PowBackward0>)\n",
      "<PowBackward0 object at 0x7fef071a1be0>\n",
      "None\n",
      "None\n",
      "tensor([[-1.3929, -0.6633],\n",
      "        [-0.2023, -0.8545]])\n",
      "tensor([[-1.3929, -0.6633],\n",
      "        [-0.2023, -0.8545]], grad_fn=<DivBackward0>)\n"
     ]
    }
   ],
   "source": [
    "#Auto grad module in torch\n",
    "x = torch.randn(2,2,requires_grad = True)\n",
    "print(x)\n",
    "y = x**2\n",
    "print(y)\n",
    "print(y.grad_fn)\n",
    "#grad function seeing method of pytorch\n",
    "z = y.mean()\n",
    "print(x.grad)\n",
    "print(y.grad)\n",
    "z.backward()\n",
    "#now all the grads are calculated\n",
    "print(x.grad)\n",
    "#After solving dz/dx comes this only ie x/2\n",
    "print(x/2)"
   ]
  },
  {
   "cell_type": "code",
   "execution_count": 16,
   "metadata": {},
   "outputs": [
    {
     "name": "stdout",
     "output_type": "stream",
     "text": [
      "Before backprop None\n",
      "After backprop tensor([[-4.3594e-03, -4.3594e-03, -4.3594e-03,  ..., -4.3594e-03,\n",
      "         -4.3594e-03, -4.3594e-03],\n",
      "        [ 3.9724e-03,  3.9724e-03,  3.9724e-03,  ...,  3.9724e-03,\n",
      "          3.9724e-03,  3.9724e-03],\n",
      "        [-4.5776e-04, -4.5776e-04, -4.5776e-04,  ..., -4.5776e-04,\n",
      "         -4.5776e-04, -4.5776e-04],\n",
      "        ...,\n",
      "        [ 5.3493e-05,  5.3493e-05,  5.3493e-05,  ...,  5.3492e-05,\n",
      "          5.3492e-05,  5.3492e-05],\n",
      "        [ 1.2199e-03,  1.2199e-03,  1.2199e-03,  ...,  1.2199e-03,\n",
      "          1.2199e-03,  1.2199e-03],\n",
      "        [-1.2465e-03, -1.2465e-03, -1.2465e-03,  ..., -1.2465e-03,\n",
      "         -1.2465e-03, -1.2465e-03]])\n"
     ]
    }
   ],
   "source": [
    "#we can build the model with loss and autograd together \n",
    "#as we have made the model before so now we need to back propogate it\n",
    "print(\"Before backprop\",model[0].weight.grad)\n",
    "loss.backward()\n",
    "print(\"After backprop\",model[0].weight.grad)\n",
    "#these are the grads for the first layer"
   ]
  },
  {
   "cell_type": "code",
   "execution_count": 17,
   "metadata": {},
   "outputs": [],
   "source": [
    "#at last for training we need a optimizer we use the optim pakage of the pytorch library\n",
    "from torch import optim\n",
    "optimizer = optim.SGD(model.parameters(),lr=0.01)\n",
    "#we set learning rate by lr"
   ]
  },
  {
   "cell_type": "code",
   "execution_count": 18,
   "metadata": {},
   "outputs": [
    {
     "name": "stdout",
     "output_type": "stream",
     "text": [
      "Initial weights- Parameter containing:\n",
      "tensor([[-0.0300,  0.0274,  0.0309,  ..., -0.0334,  0.0067, -0.0058],\n",
      "        [-0.0267,  0.0012,  0.0293,  ..., -0.0006,  0.0195,  0.0108],\n",
      "        [-0.0281,  0.0345,  0.0105,  ...,  0.0110, -0.0146, -0.0025],\n",
      "        ...,\n",
      "        [ 0.0129, -0.0186, -0.0118,  ...,  0.0321,  0.0024, -0.0041],\n",
      "        [-0.0343, -0.0269, -0.0232,  ...,  0.0071,  0.0122, -0.0254],\n",
      "        [-0.0212, -0.0344, -0.0046,  ...,  0.0350,  0.0246,  0.0326]],\n",
      "       requires_grad=True)\n",
      "Gradient- tensor([[-0.0013, -0.0013, -0.0013,  ..., -0.0013, -0.0013, -0.0013],\n",
      "        [ 0.0032,  0.0032,  0.0032,  ...,  0.0032,  0.0032,  0.0032],\n",
      "        [ 0.0039,  0.0039,  0.0039,  ...,  0.0039,  0.0039,  0.0039],\n",
      "        ...,\n",
      "        [-0.0007, -0.0007, -0.0007,  ..., -0.0007, -0.0007, -0.0007],\n",
      "        [-0.0013, -0.0013, -0.0013,  ..., -0.0013, -0.0013, -0.0013],\n",
      "        [-0.0003, -0.0003, -0.0003,  ..., -0.0003, -0.0003, -0.0003]])\n",
      "Updated weights- Parameter containing:\n",
      "tensor([[-0.0300,  0.0274,  0.0310,  ..., -0.0333,  0.0067, -0.0058],\n",
      "        [-0.0268,  0.0011,  0.0293,  ..., -0.0006,  0.0195,  0.0108],\n",
      "        [-0.0281,  0.0345,  0.0105,  ...,  0.0109, -0.0146, -0.0025],\n",
      "        ...,\n",
      "        [ 0.0129, -0.0186, -0.0118,  ...,  0.0321,  0.0024, -0.0041],\n",
      "        [-0.0343, -0.0269, -0.0232,  ...,  0.0071,  0.0122, -0.0254],\n",
      "        [-0.0212, -0.0344, -0.0046,  ...,  0.0350,  0.0246,  0.0326]],\n",
      "       requires_grad=True)\n"
     ]
    }
   ],
   "source": [
    "#gradients are accumulated so we need to reset them a very important step\n",
    "#we use optimizer.zero_grad() for that\n",
    "print('Initial weights-',model[0].weight)\n",
    "images,labels = next(iter(trainloader))\n",
    "images.resize_(64,784)\n",
    "#flatten the images\n",
    "#clearing the previous gradients \n",
    "optimizer.zero_grad()\n",
    "#doing the forward pass and a backward pass and then updating the weights\n",
    "output = model(images)\n",
    "loss = criterion(output,labels)\n",
    "loss.backward()\n",
    "print('Gradient-',model[0].weight.grad)\n",
    "optimizer.step()\n",
    "#weights are updated\n",
    "print('Updated weights-',model[0].weight)"
   ]
  },
  {
   "cell_type": "code",
   "execution_count": 24,
   "metadata": {},
   "outputs": [
    {
     "name": "stdout",
     "output_type": "stream",
     "text": [
      "Training loss: 1.8439922196778662\n",
      "Training loss: 0.8191813738551984\n",
      "Training loss: 0.5066545415026292\n",
      "Training loss: 0.41658448920384655\n",
      "Training loss: 0.37710283081859414\n"
     ]
    }
   ],
   "source": [
    "#we can use for loop to iterate the process and use epochs to decide how many steps we need\n",
    "#full model again\n",
    "model = nn.Sequential(nn.Linear(784, 128),\n",
    "                      nn.ReLU(),\n",
    "                      nn.Linear(128, 64),\n",
    "                      nn.ReLU(),\n",
    "                      nn.Linear(64, 10),\n",
    "                      nn.LogSoftmax(dim=1))\n",
    "\n",
    "criterion = nn.NLLLoss()\n",
    "optimizer = optim.SGD(model.parameters(), lr=0.003)\n",
    "intv = 0\n",
    "epochs = 5\n",
    "for e in range(epochs):\n",
    "    running_loss = 0\n",
    "    for images,labels in trainloader:\n",
    "        #flatten images\n",
    "        images = images.view(images.shape[0],-1)\n",
    "        optimizer.zero_grad()\n",
    "        #intv += intv+1\n",
    "        output = model(images)\n",
    "        loss = criterion(output,labels)\n",
    "        loss.backward()\n",
    "        optimizer.step()\n",
    "        \n",
    "        running_loss += loss.item()\n",
    "        #this thing gives us the loss we get\n",
    "    else:\n",
    "        #print(intv)\n",
    "        #print(running_loss)\n",
    "        #print(len(trainloader))\n",
    "        print(f\"Training loss: {running_loss/len(trainloader)}\")"
   ]
  },
  {
   "cell_type": "code",
   "execution_count": 25,
   "metadata": {},
   "outputs": [
    {
     "data": {
      "image/png": "[encoded data removed]",
      "text/plain": [
       "<matplotlib.figure.Figure at 0x7fef0717b0b8>"
      ]
     },
     "metadata": {},
     "output_type": "display_data"
    }
   ],
   "source": [
    "%matplotlib inline\n",
    "import helper\n",
    "\n",
    "images, labels = next(iter(trainloader))\n",
    "\n",
    "img = images[0].view(1, 784)\n",
    "# Turn off gradients to speed up this part\n",
    "with torch.no_grad():\n",
    "    logps = model(img)\n",
    "\n",
    "# Output of the network are log-probabilities, need to take exponential for probabilities\n",
    "ps = torch.exp(logps)\n",
    "helper.view_classify(img.view(1, 28, 28), ps)"
   ]
  },
  {
   "cell_type": "code",
   "execution_count": null,
   "metadata": {},
   "outputs": [],
   "source": []
  }
 ],
 "metadata": {
  "kernelspec": {
   "display_name": "Python 3",
   "language": "python",
   "name": "python3"
  },
  "language_info": {
   "codemirror_mode": {
    "name": "ipython",
    "version": 3
   },
   "file_extension": ".py",
   "mimetype": "text/x-python",
   "name": "python",
   "nbconvert_exporter": "python",
   "pygments_lexer": "ipython3",
   "version": "3.6.4"
  }
 },
 "nbformat": 4,
 "nbformat_minor": 2
}
